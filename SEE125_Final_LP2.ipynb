{
 "cells": [
  {
   "cell_type": "markdown",
   "id": "8fd6b4b9",
   "metadata": {},
   "source": [
    "Before you turn this problem in, make sure everything runs as expected. First, **restart the kernel** (in the menubar, select Kernel$\\rightarrow$Restart) and then **run all cells** (in the menubar, select Cell$\\rightarrow$Run All).\n",
    "\n",
    "Make sure you fill in any place that says `YOUR CODE HERE` or \"YOUR ANSWER HERE\", \n",
    "as well as your name(s) and group number in the cell below:"
   ]
  },
  {
   "cell_type": "code",
   "execution_count": 1,
   "id": "a5c422a7",
   "metadata": {},
   "outputs": [],
   "source": [
    "NAMES = \"Ludwig Lewis,Erik Dahllöf\"                # fill in your name(s) between the quotes, comma separated if more than one\n",
    "GROUP = \"45\"                # fill in your group number between the quotes"
   ]
  },
  {
   "cell_type": "markdown",
   "id": "537137b0",
   "metadata": {},
   "source": [
    "---"
   ]
  },
  {
   "cell_type": "markdown",
   "id": "b3c6451c",
   "metadata": {
    "deletable": false,
    "editable": false,
    "nbgrader": {
     "cell_type": "markdown",
     "checksum": "98c221ab9793e41c0f8c6dbd60c5172d",
     "grade": false,
     "grade_id": "problem1",
     "locked": true,
     "schema_version": 3,
     "solution": false,
     "task": false
    }
   },
   "source": [
    "# Problem 1 (5 pts)\n",
    "\n",
    "This problem is about complex numbers. Euler's formula says that\n",
    "\n",
    "$$e^{i\\phi} = \\cos \\phi + i \\sin \\phi$$\n",
    "\n",
    "where $e$ is the base of the natural logarithm and $i$ is the square root of −1 (i.e. the imagninary unit).\n",
    "\n",
    "Using the `cmath` module and a value of $\\phi = 30^\\circ$, calculate $e^{i\\phi}$ and $\\cos \\phi + i \\sin \\phi$ and\n",
    "check that they both give the same numerical value. Save the two results in variables `lhs` and `rhs` (short for *left hand side* and *right hand side*), respectively, because these are checked in an `assert` statement below.\n",
    "\n",
    "*Note that, the `cmath` module does not provide functions `radians` and `complex`, which are part of the `math`\n",
    "module, and you should provide a solution that doesn't need these.*"
   ]
  },
  {
   "cell_type": "code",
   "execution_count": 2,
   "id": "d713f480",
   "metadata": {
    "deletable": false,
    "nbgrader": {
     "cell_type": "code",
     "checksum": "3d198551f11a6afcbf13962ade04220d",
     "grade": false,
     "grade_id": "cell-046948e65d15d1b1",
     "locked": false,
     "schema_version": 3,
     "solution": true,
     "task": false
    }
   },
   "outputs": [],
   "source": [
    "import cmath\n",
    "# YOUR CODE HERE\n",
    "phi= 30\n",
    "phirad= phi*cmath.pi/180\n",
    "lhs=cmath.exp(phirad*1j)\n",
    "rhs=cmath.cos(phirad) + 1j*cmath.sin(phirad)\n"
   ]
  },
  {
   "cell_type": "code",
   "execution_count": 3,
   "id": "71721bdb",
   "metadata": {
    "deletable": false,
    "editable": false,
    "nbgrader": {
     "cell_type": "code",
     "checksum": "982a891e0b8aa1018eca0b349be6896b",
     "grade": true,
     "grade_id": "cell-e8ffd0e99b52a6f8",
     "locked": true,
     "points": 5,
     "schema_version": 3,
     "solution": false,
     "task": false
    }
   },
   "outputs": [],
   "source": [
    "assert lhs == rhs"
   ]
  },
  {
   "cell_type": "markdown",
   "id": "a62017ea",
   "metadata": {
    "deletable": false,
    "editable": false,
    "nbgrader": {
     "cell_type": "markdown",
     "checksum": "19955c6ca4b7beabecb1958b3c4d9dd2",
     "grade": false,
     "grade_id": "problem2",
     "locked": true,
     "schema_version": 3,
     "solution": false,
     "task": false
    }
   },
   "source": [
    "# Problem 2\n",
    "\n",
    "List and dictionary comprehension."
   ]
  },
  {
   "cell_type": "markdown",
   "id": "d6e2634e",
   "metadata": {
    "deletable": false,
    "editable": false,
    "nbgrader": {
     "cell_type": "markdown",
     "checksum": "3ea1fc95ef2eac6aa3da1c0d406794a0",
     "grade": false,
     "grade_id": "problem2a",
     "locked": true,
     "schema_version": 3,
     "solution": false,
     "task": false
    }
   },
   "source": [
    "## Problem 2a: Lists (3 pts)\n",
    "\n",
    "Write a `for` loop that produces the list of numbers of the form $\\frac{1}{i^2}$ for $i = 1\\ldots 10$ with alternate sign, i.e in Python the list would look like the following:\n",
    "\n",
    "``` python\n",
    "L1 = [1, -0.25, 0.1111111, -0.0625, ..., -0.01] \n",
    "```\n",
    "\n",
    "Call your list `L1` as shown in the code example. "
   ]
  },
  {
   "cell_type": "code",
   "execution_count": 10,
   "id": "711a945e",
   "metadata": {
    "deletable": false,
    "nbgrader": {
     "cell_type": "code",
     "checksum": "65338ef0e604a80d87f7045a4b4ac4b0",
     "grade": false,
     "grade_id": "cell-4ee533a06f3348e7",
     "locked": false,
     "schema_version": 3,
     "solution": true,
     "task": false
    }
   },
   "outputs": [],
   "source": [
    "# YOUR CODE HERE\n",
    "L1 = []\n",
    "for i in range(1,11):\n",
    "    L1.append(math.pow(-1,i-1) / (i**2))"
   ]
  },
  {
   "cell_type": "code",
   "execution_count": 11,
   "id": "59c3ff3c",
   "metadata": {
    "deletable": false,
    "editable": false,
    "nbgrader": {
     "cell_type": "code",
     "checksum": "d250cc123fd673a356db17bb840f632d",
     "grade": true,
     "grade_id": "cell-6d3f9e53b404c82e",
     "locked": true,
     "points": 3,
     "schema_version": 3,
     "solution": false,
     "task": false
    }
   },
   "outputs": [],
   "source": [
    "assert L1[0] == 1.0\n",
    "assert L1[1] == -0.25\n",
    "assert L1[9] == -0.01"
   ]
  },
  {
   "cell_type": "markdown",
   "id": "da3ae18a",
   "metadata": {
    "deletable": false,
    "editable": false,
    "nbgrader": {
     "cell_type": "markdown",
     "checksum": "fb372cb16f9730492a6948a603f8f16e",
     "grade": false,
     "grade_id": "cell-c63b9a26292ba6b3",
     "locked": true,
     "schema_version": 3,
     "solution": false,
     "task": false
    }
   },
   "source": [
    "## Problem 2b (3 pts)\n",
    "\n",
    "Now, produce the same list using list comprehension. This time, store your list in a variable called `L2`."
   ]
  },
  {
   "cell_type": "code",
   "execution_count": 12,
   "id": "aa2c82aa",
   "metadata": {
    "deletable": false,
    "nbgrader": {
     "cell_type": "code",
     "checksum": "e8406a9fd42abdaf10f0ba1d539fe4d2",
     "grade": false,
     "grade_id": "cell-1b9c0ab3b16c28e7",
     "locked": false,
     "schema_version": 3,
     "solution": true,
     "task": false
    }
   },
   "outputs": [],
   "source": [
    "# YOUR CODE HERE\n",
    "L2=[math.pow(-1,i-1)/ (i**2) for i in range(1,11)]"
   ]
  },
  {
   "cell_type": "code",
   "execution_count": 13,
   "id": "1570ee9a",
   "metadata": {
    "deletable": false,
    "editable": false,
    "nbgrader": {
     "cell_type": "code",
     "checksum": "568506efe876adcd44ca26f8b9380c72",
     "grade": true,
     "grade_id": "cell-a055feb5b98724e5",
     "locked": true,
     "points": 3,
     "schema_version": 3,
     "solution": false,
     "task": false
    }
   },
   "outputs": [],
   "source": [
    "assert L1 == L2"
   ]
  },
  {
   "cell_type": "markdown",
   "id": "796ece05",
   "metadata": {
    "deletable": false,
    "editable": false,
    "nbgrader": {
     "cell_type": "markdown",
     "checksum": "d2eae4f49d1c0fc6e046310e52a085af",
     "grade": false,
     "grade_id": "problem2b",
     "locked": true,
     "schema_version": 3,
     "solution": false,
     "task": false
    }
   },
   "source": [
    "## Problem 2c: Dictionaries (3 pts)\n",
    "\n",
    "Write a `for` loop that produces a dictionary where the keys are strings of the form `<i> deg`, with\n",
    "`i` ranging from 0 to 9, and the values are the sine function evaluated at `i` degrees:\n",
    "\n",
    "```python\n",
    "D1 = { '0 deg': 0.00000, '1 deg': 0.017452, '2 deg': 0.034899, ..., '9 deg': 0.156434 }\n",
    "```\n",
    "\n",
    "Call your dictionary D1 as shown in the code example."
   ]
  },
  {
   "cell_type": "code",
   "execution_count": 2,
   "id": "f7776ec0",
   "metadata": {
    "deletable": false,
    "nbgrader": {
     "cell_type": "code",
     "checksum": "0e4b158a0aff003f091c25d3b894a632",
     "grade": false,
     "grade_id": "cell-c1298fb79eb8771f",
     "locked": false,
     "schema_version": 3,
     "solution": true,
     "task": false
    }
   },
   "outputs": [],
   "source": [
    "# YOUR CODE HERE\n",
    "import math\n",
    "D1 = {}\n",
    "for i in range(10):\n",
    "     D1[str(i)+' deg']=math.sin(math.radians(i))"
   ]
  },
  {
   "cell_type": "code",
   "execution_count": 3,
   "id": "5b5ef14a",
   "metadata": {
    "deletable": false,
    "editable": false,
    "nbgrader": {
     "cell_type": "code",
     "checksum": "7e04a0311fb69faa12f4b145cde7f326",
     "grade": true,
     "grade_id": "cell-868fec29aca6733f",
     "locked": true,
     "points": 3,
     "schema_version": 3,
     "solution": false,
     "task": false
    }
   },
   "outputs": [],
   "source": [
    "assert D1.get(\"0 deg\") == 0.0\n",
    "assert abs(D1.get(\"9 deg\") - 0.156434) < 1.0e-6 "
   ]
  },
  {
   "cell_type": "markdown",
   "id": "a40a5289",
   "metadata": {
    "deletable": false,
    "editable": false,
    "nbgrader": {
     "cell_type": "markdown",
     "checksum": "4c965033cfa42a3d5241c98d37c64d03",
     "grade": false,
     "grade_id": "cell-9ff81b2d18005f8d",
     "locked": true,
     "schema_version": 3,
     "solution": false,
     "task": false
    }
   },
   "source": [
    "## Problem 2d (3 pts)\n",
    "\n",
    "Now, produce the same dictionary using dictionary comprehension. This time, store your dictionary in a variable called `D2`."
   ]
  },
  {
   "cell_type": "code",
   "execution_count": 4,
   "id": "2ddd0915",
   "metadata": {
    "deletable": false,
    "nbgrader": {
     "cell_type": "code",
     "checksum": "54fa819d425c77dc903bc4e5a00637fe",
     "grade": false,
     "grade_id": "cell-2b8e28ac79b98780",
     "locked": false,
     "schema_version": 3,
     "solution": true,
     "task": false
    }
   },
   "outputs": [],
   "source": [
    "# YOUR CODE HERE\n",
    "D2 = {str(i)+' deg': math.sin(math.radians(i)) for i in range(10)}"
   ]
  },
  {
   "cell_type": "code",
   "execution_count": 5,
   "id": "89638e7a",
   "metadata": {
    "deletable": false,
    "editable": false,
    "nbgrader": {
     "cell_type": "code",
     "checksum": "775621814affc6e88d5afdf37e6d547a",
     "grade": true,
     "grade_id": "cell-3521d1ec3850de2f",
     "locked": true,
     "points": 3,
     "schema_version": 3,
     "solution": false,
     "task": false
    }
   },
   "outputs": [],
   "source": [
    "assert D1 == D2"
   ]
  },
  {
   "cell_type": "markdown",
   "id": "12f08fbd",
   "metadata": {
    "deletable": false,
    "editable": false,
    "nbgrader": {
     "cell_type": "markdown",
     "checksum": "0e8199aa6a1e3c87d91ee5ec00ab7777",
     "grade": false,
     "grade_id": "problem3",
     "locked": true,
     "schema_version": 3,
     "solution": false,
     "task": false
    }
   },
   "source": [
    "# Problem 3 (10 pts)\n",
    "\n",
    "Use a `for` loop to caclulate $\\pi$ from first 20 terms of the *Madhava series*:\n",
    "\n",
    "$$\\pi = \\sqrt{12}\\left(1-\\frac{1}{3\\cdot 3}+\\frac{1}{5\\cdot 3^2}-\\frac{1}{7\\cdot 3^3}+ \\ldots \\right)$$\n",
    "\n",
    "Store your result in a variable called `madhava`. \n",
    "\n",
    "We will test below that the absolute difference between \n",
    "your result and the \"true\" value of $\\pi$ (i.e. `math.pi`) is less than $10^{-9}$.\n",
    "\n",
    "*If you want, you may also provide a solution based on just one line of code. \n",
    "The `numpy` package is not needed here, but feel free to use it, if you think you can use it to your advantage.*"
   ]
  },
  {
   "cell_type": "code",
   "execution_count": 8,
   "id": "3376d66c",
   "metadata": {
    "deletable": false,
    "nbgrader": {
     "cell_type": "code",
     "checksum": "34804b7ec029b5c972baacfd28b76149",
     "grade": false,
     "grade_id": "cell-22c3bc67fba77a22",
     "locked": false,
     "schema_version": 3,
     "solution": true,
     "task": false
    }
   },
   "outputs": [],
   "source": [
    "# YOUR CODE HERE\n",
    "madhava=0\n",
    "for i in range(20):\n",
    "    madhava+= math.pow(-1,i) / ((2*i+1)*math.pow(3,i))\n",
    "madhava*=math.sqrt(12)"
   ]
  },
  {
   "cell_type": "code",
   "execution_count": 9,
   "id": "8b523325",
   "metadata": {
    "deletable": false,
    "editable": false,
    "nbgrader": {
     "cell_type": "code",
     "checksum": "c1dae620de814e02485ca0042f5b97d4",
     "grade": true,
     "grade_id": "cell-11453e1e7ffb3fd7",
     "locked": true,
     "points": 10,
     "schema_version": 3,
     "solution": false,
     "task": false
    }
   },
   "outputs": [
    {
     "name": "stdout",
     "output_type": "stream",
     "text": [
      "3.1415926535714034 3.141592653589793\n"
     ]
    }
   ],
   "source": [
    "print(madhava, math.pi)\n",
    "\n",
    "assert abs(madhava - math.pi) < 1.0e-9"
   ]
  },
  {
   "cell_type": "markdown",
   "id": "bcdb0335",
   "metadata": {
    "deletable": false,
    "editable": false,
    "nbgrader": {
     "cell_type": "markdown",
     "checksum": "e5d3e6b528fcb6bce6dfa90c355ed0f9",
     "grade": false,
     "grade_id": "problem4",
     "locked": true,
     "schema_version": 3,
     "solution": false,
     "task": false
    }
   },
   "source": [
    "# Problem 4\n",
    "\n",
    "The *hailstone sequence* starting at an integer $n > 0$ is generated by the repeated application of the three rules:\n",
    "* if $n = 1$, the sequence ends;\n",
    "* if $n$ is even, the next number in the  sequence is $n/2$;\n",
    "* if $n$ is odd, the next number in the  sequence is $3n + 1$."
   ]
  },
  {
   "cell_type": "markdown",
   "id": "ae89643b",
   "metadata": {
    "deletable": false,
    "editable": false,
    "nbgrader": {
     "cell_type": "markdown",
     "checksum": "5ea1efa6852aeabba6443b30a269630f",
     "grade": false,
     "grade_id": "problem4a",
     "locked": true,
     "schema_version": 3,
     "solution": false,
     "task": false
    }
   },
   "source": [
    "## Problem 4a (8 pts)\n",
    "\n",
    "Write a **generator function** `hailstone` (i.e. the function will be using the Python keyword `yield`,\n",
    "rather than `return`), which \"yields\" the next number in the sequence, The function starts at an integer `n`, \n",
    "which is passed as an argument to the function. \n",
    "\n",
    "**All numbers in the sequence should be integer!**"
   ]
  },
  {
   "cell_type": "code",
   "execution_count": 16,
   "id": "47947d9a",
   "metadata": {
    "deletable": false,
    "nbgrader": {
     "cell_type": "code",
     "checksum": "ed29597a94131d18cd98c8a022a9ada6",
     "grade": false,
     "grade_id": "cell-32330dcf99e7e11d",
     "locked": false,
     "schema_version": 3,
     "solution": true,
     "task": false
    }
   },
   "outputs": [],
   "source": [
    "def hailstone(n):\n",
    "    \"\"\"Produce the hailstone sequence starting from n.\"\"\"\n",
    "    # YOUR CODE HERE\n",
    "    while(n!=1):\n",
    "        if(n%2==0):\n",
    "            n/=2\n",
    "        else:\n",
    "            n=3*n+1\n",
    "        yield(n)\n",
    "        \n",
    "    \n",
    "    "
   ]
  },
  {
   "cell_type": "markdown",
   "id": "68e9a4f6",
   "metadata": {
    "deletable": false,
    "editable": false,
    "nbgrader": {
     "cell_type": "markdown",
     "checksum": "22da84cfee7867048b82277f50bd77ef",
     "grade": false,
     "grade_id": "cell-ee9d4341c1bc7669",
     "locked": true,
     "schema_version": 3,
     "solution": false,
     "task": false
    }
   },
   "source": [
    "You should now be able to get the sequence of numbers for a start value of **10**, by using the following code."
   ]
  },
  {
   "cell_type": "code",
   "execution_count": 17,
   "id": "e9050563",
   "metadata": {
    "deletable": false,
    "editable": false,
    "nbgrader": {
     "cell_type": "code",
     "checksum": "9c7d9c2a4839617d4f2fef0de2cb3367",
     "grade": true,
     "grade_id": "cell-f7499da97d96757f",
     "locked": true,
     "points": 5,
     "schema_version": 3,
     "solution": false,
     "task": false
    }
   },
   "outputs": [
    {
     "name": "stdout",
     "output_type": "stream",
     "text": [
      "[5.0, 16.0, 8.0, 4.0, 2.0, 1.0]\n",
      "6\n"
     ]
    }
   ],
   "source": [
    "# just run this code cell and make sure it passes the assertions below\n",
    "\n",
    "h10 = hailstone(10)\n",
    "\n",
    "# h10 is now a generator object, which is iterable, so we can turn it into a list.\n",
    "sequence = list(h10)\n",
    "print(sequence)\n",
    "\n",
    "# And the length of our sequence (which is called its *stopping time*) is simply:\n",
    "print(len(sequence))\n",
    "\n",
    "assert sequence == [5, 16, 8, 4, 2, 1]\n",
    "assert len(sequence) == 6\n"
   ]
  },
  {
   "cell_type": "markdown",
   "id": "4f8b7767",
   "metadata": {
    "deletable": false,
    "editable": false,
    "nbgrader": {
     "cell_type": "markdown",
     "checksum": "149dc9c1bac09995a6f54c94547819b8",
     "grade": false,
     "grade_id": "problem4b",
     "locked": true,
     "schema_version": 3,
     "solution": false,
     "task": false
    }
   },
   "source": [
    "## Problem 4b (2 pts)\n",
    "\n",
    "Print the *stopping times* for all sequences with start value $n$, where $n = 1\\ldots 100$.\n",
    "Your output should look like the following:\n",
    "```\n",
    "the stopping time for   1 is   0\n",
    "the stopping time for   2 is   1\n",
    "the stopping time for   3 is   7\n",
    "the stopping time for   4 is   2\n",
    "...\n",
    "the stopping time for  97 is 118\n",
    "the stopping time for  98 is  25\n",
    "the stopping time for  99 is  25\n",
    "the stopping time for 100 is  25\n",
    "```\n",
    "\n",
    "i.e. all integers should be printed with a width of 3, as they can be >= 100 and should be right aligned."
   ]
  },
  {
   "cell_type": "code",
   "execution_count": 28,
   "id": "8a6dd1d7",
   "metadata": {
    "deletable": false,
    "nbgrader": {
     "cell_type": "code",
     "checksum": "c1ee158579e8c5e0f80cb919cf1e8c01",
     "grade": false,
     "grade_id": "cell-678beb6d5cfaf941",
     "locked": false,
     "schema_version": 3,
     "solution": true,
     "task": false
    }
   },
   "outputs": [
    {
     "name": "stdout",
     "output_type": "stream",
     "text": [
      "the stopping time for   1 is   0\n",
      "the stopping time for   2 is   1\n",
      "the stopping time for   3 is   7\n",
      "the stopping time for   4 is   2\n",
      "the stopping time for   5 is   5\n",
      "the stopping time for   6 is   8\n",
      "the stopping time for   7 is  16\n",
      "the stopping time for   8 is   3\n",
      "the stopping time for   9 is  19\n",
      "the stopping time for  10 is   6\n",
      "the stopping time for  11 is  14\n",
      "the stopping time for  12 is   9\n",
      "the stopping time for  13 is   9\n",
      "the stopping time for  14 is  17\n",
      "the stopping time for  15 is  17\n",
      "the stopping time for  16 is   4\n",
      "the stopping time for  17 is  12\n",
      "the stopping time for  18 is  20\n",
      "the stopping time for  19 is  20\n",
      "the stopping time for  20 is   7\n",
      "the stopping time for  21 is   7\n",
      "the stopping time for  22 is  15\n",
      "the stopping time for  23 is  15\n",
      "the stopping time for  24 is  10\n",
      "the stopping time for  25 is  23\n",
      "the stopping time for  26 is  10\n",
      "the stopping time for  27 is 111\n",
      "the stopping time for  28 is  18\n",
      "the stopping time for  29 is  18\n",
      "the stopping time for  30 is  18\n",
      "the stopping time for  31 is 106\n",
      "the stopping time for  32 is   5\n",
      "the stopping time for  33 is  26\n",
      "the stopping time for  34 is  13\n",
      "the stopping time for  35 is  13\n",
      "the stopping time for  36 is  21\n",
      "the stopping time for  37 is  21\n",
      "the stopping time for  38 is  21\n",
      "the stopping time for  39 is  34\n",
      "the stopping time for  40 is   8\n",
      "the stopping time for  41 is 109\n",
      "the stopping time for  42 is   8\n",
      "the stopping time for  43 is  29\n",
      "the stopping time for  44 is  16\n",
      "the stopping time for  45 is  16\n",
      "the stopping time for  46 is  16\n",
      "the stopping time for  47 is 104\n",
      "the stopping time for  48 is  11\n",
      "the stopping time for  49 is  24\n",
      "the stopping time for  50 is  24\n",
      "the stopping time for  51 is  24\n",
      "the stopping time for  52 is  11\n",
      "the stopping time for  53 is  11\n",
      "the stopping time for  54 is 112\n",
      "the stopping time for  55 is 112\n",
      "the stopping time for  56 is  19\n",
      "the stopping time for  57 is  32\n",
      "the stopping time for  58 is  19\n",
      "the stopping time for  59 is  32\n",
      "the stopping time for  60 is  19\n",
      "the stopping time for  61 is  19\n",
      "the stopping time for  62 is 107\n",
      "the stopping time for  63 is 107\n",
      "the stopping time for  64 is   6\n",
      "the stopping time for  65 is  27\n",
      "the stopping time for  66 is  27\n",
      "the stopping time for  67 is  27\n",
      "the stopping time for  68 is  14\n",
      "the stopping time for  69 is  14\n",
      "the stopping time for  70 is  14\n",
      "the stopping time for  71 is 102\n",
      "the stopping time for  72 is  22\n",
      "the stopping time for  73 is 115\n",
      "the stopping time for  74 is  22\n",
      "the stopping time for  75 is  14\n",
      "the stopping time for  76 is  22\n",
      "the stopping time for  77 is  22\n",
      "the stopping time for  78 is  35\n",
      "the stopping time for  79 is  35\n",
      "the stopping time for  80 is   9\n",
      "the stopping time for  81 is  22\n",
      "the stopping time for  82 is 110\n",
      "the stopping time for  83 is 110\n",
      "the stopping time for  84 is   9\n",
      "the stopping time for  85 is   9\n",
      "the stopping time for  86 is  30\n",
      "the stopping time for  87 is  30\n",
      "the stopping time for  88 is  17\n",
      "the stopping time for  89 is  30\n",
      "the stopping time for  90 is  17\n",
      "the stopping time for  91 is  92\n",
      "the stopping time for  92 is  17\n",
      "the stopping time for  93 is  17\n",
      "the stopping time for  94 is 105\n",
      "the stopping time for  95 is 105\n",
      "the stopping time for  96 is  12\n",
      "the stopping time for  97 is 118\n",
      "the stopping time for  98 is  25\n",
      "the stopping time for  99 is  25\n",
      "the stopping time for 100 is  25\n"
     ]
    }
   ],
   "source": [
    "# YOUR CODE HERE\n",
    "for i in range(1,101):\n",
    "    print('the stopping time for {} is {}'.format(str(i).rjust(3),str(len(list(hailstone(i)))).rjust(3)))"
   ]
  },
  {
   "cell_type": "markdown",
   "id": "4bd4ce0e",
   "metadata": {
    "deletable": false,
    "editable": false,
    "nbgrader": {
     "cell_type": "markdown",
     "checksum": "953aaeaa97b2dca21118f6b37f803939",
     "grade": false,
     "grade_id": "question4b",
     "locked": true,
     "schema_version": 3,
     "solution": false,
     "task": false
    }
   },
   "source": [
    "Is there any sequence that does not stop? What would happen in that case?"
   ]
  },
  {
   "cell_type": "markdown",
   "id": "8aa2368c",
   "metadata": {
    "deletable": false,
    "nbgrader": {
     "cell_type": "markdown",
     "checksum": "6e6ed47decffd1867249cfea2e8d7388",
     "grade": true,
     "grade_id": "cell-06d918463e7f7503",
     "locked": false,
     "points": 0,
     "schema_version": 3,
     "solution": true,
     "task": false
    }
   },
   "source": [
    "The stopping time would be infinite and we would become world famous for solving the *3n+1* problem"
   ]
  },
  {
   "cell_type": "markdown",
   "id": "9a76bc48",
   "metadata": {
    "deletable": false,
    "editable": false,
    "nbgrader": {
     "cell_type": "markdown",
     "checksum": "17b369a8f2259c8ce489cf0d33ad5db5",
     "grade": false,
     "grade_id": "problem5",
     "locked": true,
     "schema_version": 3,
     "solution": false,
     "task": false
    }
   },
   "source": [
    "# Problem 5\n",
    "\n",
    "\n",
    "| parameter | Earth value, $x_{i,\\oplus}$ | weight $w_i$ |\n",
    "|:----------|:----------------------------|:-------------|\n",
    "| radius    | 1.0                         | 0.57         |\n",
    "| density   | 1.0                         | 1.07         |\n",
    "| escape velocity   | 1.0                 | 0.7          |\n",
    "| surface temperature  | 288.0            | 5.58         |\n",
    "\n",
    "The *Earth Similarity Index* (ESI) attempts to quantify the physical similarity between an astronomical body \n",
    "(usually a planet or moon) and Earth. If we have astronomical bodies numbered $j = 0\\ldots n$, then the ESI of \n",
    "the $j$th body is defined by\n",
    "\n",
    "$${\\rm ESI}_j = \\prod_{i=1}^{n} \\left( 1 - \\Big| \\frac{x_{i,j}-x_{i,\\oplus}}{x_{i,j}+x_{i,\\oplus}} \\Big| \\right) ^{w_i/n}$$\n",
    "\n",
    "where the parameters $x_{i,j}$ are described, and their terrestrial values, $x_{i,\\oplus}$ and \n",
    "weights, $w_i$ given in the table above. This means, in the formula the product runs from $1\\ldots n=4$, as we have four parameters. The ESI lies between 0 and 1, with values closer to 1 indicating closer similarity to Earth \n",
    "(which has an ESI of exacvtly 1: Earth is identical to itself!)"
   ]
  },
  {
   "cell_type": "markdown",
   "id": "dd9f6531",
   "metadata": {
    "deletable": false,
    "editable": false,
    "nbgrader": {
     "cell_type": "markdown",
     "checksum": "d4097ed7e0934767c068d8d2a9b763b0",
     "grade": false,
     "grade_id": "problem5a",
     "locked": true,
     "schema_version": 3,
     "solution": false,
     "task": false
    }
   },
   "source": [
    "## Problem 5a (10 pts)\n",
    "\n",
    "The file [ex2-6-g-esi-data.txt](https://scipython.com/static/media/problems/P2.6/ex2-6-g-esi-data.txt) contains\n",
    "the earlier mentioned parameters for a range of astronomical bodies. Use these data to\n",
    "calculate the ESI for each of the bodies. \n",
    "\n",
    "> *Note that, the file contains additional parameters that you won't use.* \n",
    "> *You are only interested in the columns with the parameters listed in the table above.*\n",
    ">\n",
    "> *This means when reading the file, you will have to skip the first three rows (the table header)*\n",
    "> *and then extract columns 'radius', 'density', 'v_esc' and 'Tsurf'.*\n",
    "> \n",
    "> *The weights are not part of the file, you will have to create a list of weights manually with the \n",
    "> values given above.*\n",
    "\n",
    "Your solution should produce a table like the following, where the body's name is in a 20 character wide column\n",
    "and the ESI for each body is printed with 3 decimals:\n",
    "\n",
    "``` python\n",
    "Earth                   1.000\n",
    "Mars                    0.697\n",
    "Mercury                 0.595\n",
    "Moon                    0.557\n",
    "...\n",
    "```"
   ]
  },
  {
   "cell_type": "code",
   "execution_count": null,
   "id": "5b572088",
   "metadata": {
    "deletable": false,
    "nbgrader": {
     "cell_type": "code",
     "checksum": "84d9aee28532dc614fcfd97d48a837c2",
     "grade": false,
     "grade_id": "cell-a322d49d27016019",
     "locked": false,
     "schema_version": 3,
     "solution": true,
     "task": false
    }
   },
   "outputs": [],
   "source": [
    "# YOUR CODE HERE\n",
    "raise NotImplementedError()"
   ]
  },
  {
   "cell_type": "markdown",
   "id": "fa0e5d70",
   "metadata": {
    "deletable": false,
    "editable": false,
    "nbgrader": {
     "cell_type": "markdown",
     "checksum": "6392a9a92c4069769deefe3b42ad4ebc",
     "grade": false,
     "grade_id": "cell-ec436fa747c9dad3",
     "locked": true,
     "schema_version": 3,
     "solution": false,
     "task": false
    }
   },
   "source": [
    "## Problem 5b (3 pts)\n",
    "\n",
    "Which of these astronomical bodies has properties “closest” to those of the Earth?"
   ]
  },
  {
   "cell_type": "markdown",
   "id": "0e261986",
   "metadata": {
    "deletable": false,
    "nbgrader": {
     "cell_type": "markdown",
     "checksum": "04af0b167c3cdab4038aa2af7087835a",
     "grade": true,
     "grade_id": "cell-0f41d739fbb10857",
     "locked": false,
     "points": 3,
     "schema_version": 3,
     "solution": true,
     "task": false
    }
   },
   "source": [
    "YOUR ANSWER HERE"
   ]
  },
  {
   "cell_type": "markdown",
   "id": "43714fd5",
   "metadata": {
    "deletable": false,
    "editable": false,
    "nbgrader": {
     "cell_type": "markdown",
     "checksum": "922af204468b40fad57523f372824981",
     "grade": false,
     "grade_id": "problem6",
     "locked": true,
     "schema_version": 3,
     "solution": false,
     "task": false
    }
   },
   "source": [
    "# Problem 6\n",
    "\n",
    "In this exercise you will use the functions from the previous *matplotlib* exercise set to determine how some of the other planets of the solar system move with respect to the Earth. \n",
    "\n",
    "First we include again the pieces of code and arrays from the previous exercise set that describe the solar system and translate the orbits to cartesian $x, y, $ and $z$ coordinates.\n",
    "\n",
    "*Just run all the code cells up to 'Problem 6a'.*\n",
    "\n",
    "First the basic packages:"
   ]
  },
  {
   "cell_type": "code",
   "execution_count": null,
   "id": "670c4ade",
   "metadata": {
    "deletable": false,
    "editable": false,
    "nbgrader": {
     "cell_type": "code",
     "checksum": "5f263bcca470a396db1d96ba57115ada",
     "grade": false,
     "grade_id": "cell-584e4a6209daad88",
     "locked": true,
     "schema_version": 3,
     "solution": false,
     "task": false
    }
   },
   "outputs": [],
   "source": [
    "# just run this code cell\n",
    "\n",
    "# first, for later use, import all the necessary packages (redundant if already done earlier)\n",
    "from mpl_toolkits.mplot3d import Axes3D\n",
    "import numpy as np\n",
    "import matplotlib.pyplot as plt\n",
    "\n",
    "%matplotlib inline"
   ]
  },
  {
   "cell_type": "markdown",
   "id": "1078ab4f",
   "metadata": {
    "deletable": false,
    "editable": false,
    "nbgrader": {
     "cell_type": "markdown",
     "checksum": "1e085b56059617a0a8089334e7bf8a07",
     "grade": false,
     "grade_id": "cell-d638977ef32b286e",
     "locked": true,
     "schema_version": 3,
     "solution": false,
     "task": false
    }
   },
   "source": [
    "Then the array with orbital elements:"
   ]
  },
  {
   "cell_type": "code",
   "execution_count": null,
   "id": "be1d751d",
   "metadata": {
    "deletable": false,
    "editable": false,
    "nbgrader": {
     "cell_type": "code",
     "checksum": "75649fe93ebe70d237b24fa5179e74bf",
     "grade": false,
     "grade_id": "cell-c588c0a7220543b8",
     "locked": true,
     "schema_version": 3,
     "solution": false,
     "task": false
    }
   },
   "outputs": [],
   "source": [
    "# These are the orbital elements that are needed to plot the (eliptical) orbits of the planets\n",
    "# It is a list of lists, with for each planet:\n",
    "# a [semi-major axis in astronomical units au]\n",
    "# e [the elipticity of the orbit, between [0, 1] with the higher the value to more elliptical the orbit]\n",
    "# I [the inclination of the orbit, i.e. the angle between the plane of the orbit and the plane containing the Earth orbit in degrees]\n",
    "# peri, node [these are the two angles that define the position of the ellipse in units of degree]\n",
    "# period [the orbital period in units of years]\n",
    "# Name [the name of the planet]\n",
    "orb_elements = [\n",
    "    [0.3871, 0.20564, 7.006, 77.46, 48.34, 0.241, 'Mercury'],   # Mercury\n",
    "    [0.7233, 0.00676, 3.398, 131.77, 76.67, 0.615, 'Venus'],  # Venus\n",
    "    [1.0, 0.01673, 0.0, 102.93, 0.0, 1.0, 'Earth'],         # Earth\n",
    "    [1.5237, 0.09337, 1.852, 336.08, 49.71, 1.881, 'Mars'],  # Mars\n",
    "    [5.2025, 0.04854, 1.299, 14.27, 100.29, 11.87, 'Jupiter'],  # Jupiter\n",
    "    [9.5415, 0.05551, 2.492, 92.86, 113.64, 29.47, 'Saturn'],  # Saturn\n",
    "    [19.188, 0.04689, 0.773, 172.43, 73.96, 84.05, 'Uranus'],  # Uranus\n",
    "    [30.070, 0.00895, 1.770, 46.68, 131.79, 164.9, 'Neptune'],  # Neptune\n",
    "    [39.4821, 0.24883, 17.14, 113.76, 110.30, 247.94, 'Pluto'],# Pluto \n",
    "    ]\n"
   ]
  },
  {
   "cell_type": "markdown",
   "id": "1a3023d1",
   "metadata": {
    "deletable": false,
    "editable": false,
    "nbgrader": {
     "cell_type": "markdown",
     "checksum": "6e9da919b13062967baf15798c673d1a",
     "grade": false,
     "grade_id": "cell-cf2b90066652061a",
     "locked": true,
     "schema_version": 3,
     "solution": false,
     "task": false
    }
   },
   "source": [
    "And the function that will allow you to calculate the cartesian position (in $x, y,$ and $z$ coordinates) \n",
    "from the orbital elements ($a, e, I,$ peri and node) as well as the position along this orbit, \n",
    "which is called the eccentric anomaly $E$. This eccentric anomaly is an angle that can take \n",
    "any value between $[0, 2\\pi]$.  "
   ]
  },
  {
   "cell_type": "code",
   "execution_count": null,
   "id": "54617602",
   "metadata": {
    "deletable": false,
    "editable": false,
    "nbgrader": {
     "cell_type": "code",
     "checksum": "89a6b9396cf3552b82a947a932083f6f",
     "grade": false,
     "grade_id": "cell-9c0372a599528085",
     "locked": true,
     "schema_version": 3,
     "solution": false,
     "task": false
    }
   },
   "outputs": [],
   "source": [
    "# just run this code cell\n",
    "\n",
    "def orbitalElements2Cartesian(a, e, I, peri, node, E):\n",
    "    \"\"\" Convert orbital elements to Cartesian coordinates in the Solar System.\n",
    "\n",
    "    Args: \n",
    "        a (float): semi-major axis (AU)\n",
    "        e (float): eccentricity\n",
    "        I (float): inclination (degrees)\n",
    "        peri (float): longitude of perihelion (degrees)\n",
    "        node (float): longitude of ascending node (degrees)\n",
    "        E (float): eccentric anomaly (radians) ; this can be an array or single value\n",
    "\n",
    "    \"\"\"\n",
    "\n",
    "    # The source of equations used:\n",
    "    # http://farside.ph.utexas.edu/teaching/celestial/Celestialhtml/node34.html\n",
    "        \n",
    "    # Convert degrees to radians (using the map function, but you could have simply used (np.pi * angle/180.).\n",
    "    I, peri, node = map(np.radians, [I, peri, node])\n",
    "\n",
    "    # True anomaly (caculated from E and the eccentricity. Notice that for a circular orbit [e=0] theta and E are identical.\n",
    "    theta = 2*np.arctan(np.sqrt((1.0 + e)/(1.0 - e))*np.tan(E/2.0))\n",
    "\n",
    "    # Distance from the Sun to the point on orbit (notice again that for e=0, this is a circle with radius a)\n",
    "    r = a*(1.0 - e*np.cos(E))\n",
    "\n",
    "    # Cartesian coordinates\n",
    "    x = r*(np.cos(node)*np.cos(peri + theta) - np.sin(node)*np.sin(peri + theta)*np.cos(I))\n",
    "    y = r*(np.sin(node)*np.cos(peri + theta) + np.cos(node)*np.sin(peri + theta)*np.cos(I))\n",
    "    z = r*np.sin(peri + theta)*np.sin(I)\n",
    "\n",
    "    return x, y, z"
   ]
  },
  {
   "cell_type": "markdown",
   "id": "1295e3ea",
   "metadata": {
    "deletable": false,
    "editable": false,
    "nbgrader": {
     "cell_type": "markdown",
     "checksum": "af3f2c36c4699a1324795adfc6c08975",
     "grade": false,
     "grade_id": "problem6a",
     "locked": true,
     "schema_version": 3,
     "solution": false,
     "task": false
    }
   },
   "source": [
    "## Problem 6a (12 pts)\n",
    "\n",
    "Produce a function that plots the orbit of a planet (make the selected planet part of the function input) with respect to the Earth. Do this in the projected $x, y$-plane.\n",
    "\n",
    "- Define what you need to plot [Hint: you need to calculate the position of the Earth as well as the position of the planet at the same time; but note that the period is different. Where Earth 'eccentric anomaly' (angular position in the orbit) goes from $E=0$ to $E=2\\pi$ in the time of 1 year, Mars for example takes 1.881 years to do the same. So as approximation, when $E_{\\rm earth}=\\pi$, $E_{\\rm mars}=\\pi/1.881$. So in the exercise you can use: $E_{\\rm planet}=E_{\\rm Earth}/P_{\\rm planet}$.]"
   ]
  },
  {
   "cell_type": "code",
   "execution_count": null,
   "id": "5c368e74",
   "metadata": {
    "deletable": false,
    "nbgrader": {
     "cell_type": "code",
     "checksum": "0f2341d5697630c68a471241713bd8f5",
     "grade": false,
     "grade_id": "cell-d2286304cf2e1fd8",
     "locked": false,
     "schema_version": 3,
     "solution": true,
     "task": false
    }
   },
   "outputs": [],
   "source": [
    "# YOUR CODE HERE\n",
    "raise NotImplementedError()"
   ]
  },
  {
   "cell_type": "markdown",
   "id": "7aca59fe",
   "metadata": {
    "deletable": false,
    "editable": false,
    "nbgrader": {
     "cell_type": "markdown",
     "checksum": "6a72c1ff8768581454b9545db76933ad",
     "grade": false,
     "grade_id": "cell-ccdfe5fca6c91b8f",
     "locked": true,
     "schema_version": 3,
     "solution": false,
     "task": false
    }
   },
   "source": [
    "Test your function for planet Mars."
   ]
  },
  {
   "cell_type": "code",
   "execution_count": null,
   "id": "71efe5dd",
   "metadata": {
    "deletable": false,
    "nbgrader": {
     "cell_type": "code",
     "checksum": "644fc1905d0ffabf217602a55331c8fc",
     "grade": false,
     "grade_id": "cell-7c6f582fb166018f",
     "locked": false,
     "schema_version": 3,
     "solution": true,
     "task": false
    }
   },
   "outputs": [],
   "source": [
    "# YOUR CODE HERE\n",
    "raise NotImplementedError()"
   ]
  },
  {
   "cell_type": "markdown",
   "id": "844d37fa",
   "metadata": {
    "deletable": false,
    "editable": false,
    "nbgrader": {
     "cell_type": "markdown",
     "checksum": "400f367df86ba27d102e3bb095e8a2f5",
     "grade": false,
     "grade_id": "problem6b",
     "locked": true,
     "schema_version": 3,
     "solution": false,
     "task": false
    }
   },
   "source": [
    "## Problem 6b (3 pts)\n",
    "\n",
    "Also produce a second 3D-plot where you can interactively change the viewing angle."
   ]
  },
  {
   "cell_type": "code",
   "execution_count": null,
   "id": "3a8822ca",
   "metadata": {
    "deletable": false,
    "nbgrader": {
     "cell_type": "code",
     "checksum": "d99023c63cae9395f6268ba84ead8167",
     "grade": false,
     "grade_id": "cell-7df378d2febe9186",
     "locked": false,
     "schema_version": 3,
     "solution": true,
     "task": false
    }
   },
   "outputs": [],
   "source": [
    "# YOUR CODE HERE\n",
    "raise NotImplementedError()"
   ]
  },
  {
   "cell_type": "code",
   "execution_count": null,
   "id": "ae5c02b5",
   "metadata": {
    "deletable": false,
    "nbgrader": {
     "cell_type": "code",
     "checksum": "99951eb062e0f9329036f43910c03735",
     "grade": false,
     "grade_id": "cell-818843f61de8df64",
     "locked": false,
     "schema_version": 3,
     "solution": true,
     "task": false
    }
   },
   "outputs": [],
   "source": [
    "# YOUR CODE HERE\n",
    "raise NotImplementedError()"
   ]
  },
  {
   "cell_type": "markdown",
   "id": "e4948e36",
   "metadata": {
    "deletable": false,
    "editable": false,
    "nbgrader": {
     "cell_type": "markdown",
     "checksum": "5466e41233b0924ca71099db843d2bc1",
     "grade": false,
     "grade_id": "problem7",
     "locked": true,
     "schema_version": 3,
     "solution": false,
     "task": false
    }
   },
   "source": [
    "# Problem 7\n",
    "\n",
    "Download climate data from https://data.giss.nasa.gov/gistemp/graphs/graph_data/Temperature_Anomalies_over_Land_and_over_Ocean/graph.csv\n",
    "and read in the data, which consists of measurements (both raw and smoothed) of the Mean Surface Air temperature anomaly over the Ocean and over Land areas. The description of the columns is provided in the file. Temperature anomaly means that it is the temperature difference with respect to an average. In this case the average temperature is that in the interval of 1951-1980. "
   ]
  },
  {
   "cell_type": "markdown",
   "id": "b3064918",
   "metadata": {
    "deletable": false,
    "editable": false,
    "nbgrader": {
     "cell_type": "markdown",
     "checksum": "75ceb213d5ba5f1a45bf366331bbbb75",
     "grade": false,
     "grade_id": "problem7a",
     "locked": true,
     "schema_version": 3,
     "solution": false,
     "task": false
    }
   },
   "source": [
    "## Problem 7a (5 pts)\n",
    "\n",
    "- Use ```np.loadtxt()``` to read the file. (Note, since this is a comma-separated .csv file, you need to use ```delimiter=','``` in ```np.loadtxt```. Also remember to skip the headers.)\n",
    "- Make a scatter plot of the measurements of the anomalies. Provide a title to the figure and axis-labels as well as a legend identifying the Ocean and Land area measurements.\n",
    "- Add the smoothed data as lines (with legend), and add a dashed line through $y=0$"
   ]
  },
  {
   "cell_type": "code",
   "execution_count": null,
   "id": "5f83894f",
   "metadata": {
    "deletable": false,
    "nbgrader": {
     "cell_type": "code",
     "checksum": "483d22d5646803a5f635299d58818d4c",
     "grade": false,
     "grade_id": "cell-dd01236787d4eaf6",
     "locked": false,
     "schema_version": 3,
     "solution": true,
     "task": false
    }
   },
   "outputs": [],
   "source": [
    "import numpy as np\n",
    "\n",
    "# YOUR CODE HERE\n",
    "raise NotImplementedError()\n",
    "data"
   ]
  },
  {
   "cell_type": "code",
   "execution_count": null,
   "id": "7c30777e",
   "metadata": {
    "deletable": false,
    "nbgrader": {
     "cell_type": "code",
     "checksum": "8775d9e6c25df713acc374ad0b80169e",
     "grade": false,
     "grade_id": "cell-3bf70baf4b24e188",
     "locked": false,
     "schema_version": 3,
     "solution": true,
     "task": false
    }
   },
   "outputs": [],
   "source": [
    "# YOUR CODE HERE\n",
    "raise NotImplementedError()"
   ]
  },
  {
   "cell_type": "code",
   "execution_count": null,
   "id": "e13aea1c",
   "metadata": {
    "deletable": false,
    "nbgrader": {
     "cell_type": "code",
     "checksum": "608316b786b253dfd2bf667779605382",
     "grade": false,
     "grade_id": "cell-024368ed6c017353",
     "locked": false,
     "schema_version": 3,
     "solution": true,
     "task": false
    }
   },
   "outputs": [],
   "source": [
    "# YOUR CODE HERE\n",
    "raise NotImplementedError()"
   ]
  },
  {
   "cell_type": "markdown",
   "id": "9944cd22",
   "metadata": {
    "deletable": false,
    "editable": false,
    "nbgrader": {
     "cell_type": "markdown",
     "checksum": "c2a2dd52dc75b9c8fe119488716d6f68",
     "grade": false,
     "grade_id": "problem7b",
     "locked": true,
     "schema_version": 3,
     "solution": false,
     "task": false
    }
   },
   "source": [
    "## Problem 7b (7 pts)\n",
    "\n",
    "- Now create a new plot where you plot, for each year (except the first), the difference to the previous year ($\\Delta T_{\\rm anomaly} = T_{\\rm anomaly}(t)-T_{\\rm anomaly}(t-1)$, this will require some array manipulation). Do this for the Ocean and Land data as well as the smoothed data."
   ]
  },
  {
   "cell_type": "code",
   "execution_count": null,
   "id": "b6d5494a",
   "metadata": {
    "deletable": false,
    "nbgrader": {
     "cell_type": "code",
     "checksum": "68352c1fd09a40acdb08329d3b95b358",
     "grade": false,
     "grade_id": "cell-4c5ae1773ab58d56",
     "locked": false,
     "schema_version": 3,
     "solution": true,
     "task": false
    }
   },
   "outputs": [],
   "source": [
    "# YOUR CODE HERE\n",
    "raise NotImplementedError()"
   ]
  },
  {
   "cell_type": "markdown",
   "id": "12f7469a",
   "metadata": {
    "deletable": false,
    "editable": false,
    "nbgrader": {
     "cell_type": "markdown",
     "checksum": "fbae8cbaa0a2086a0ac2081bba944a74",
     "grade": false,
     "grade_id": "problem7c",
     "locked": true,
     "schema_version": 3,
     "solution": false,
     "task": false
    }
   },
   "source": [
    "## Problem 7c (3 pts)\n",
    "\n",
    "- Create a histogram of the difference anomaly you calculated in for the 2nd plot of this problem. Use 20 bins and range[-0.5,0.5]. Plot Earth and Ocean observations with different colors, include a legend and add a vertical line for $x=0$. \n",
    "\n",
    "> *Tip: use the ```alpha``` parameter of ```plt.hist``` to set the transparency of the histograms.*"
   ]
  },
  {
   "cell_type": "code",
   "execution_count": null,
   "id": "12e42395",
   "metadata": {
    "deletable": false,
    "nbgrader": {
     "cell_type": "code",
     "checksum": "e97c3aae66d0a42052ea3005aa2c8144",
     "grade": false,
     "grade_id": "cell-6b0992c65f570be1",
     "locked": false,
     "schema_version": 3,
     "solution": true,
     "task": false
    }
   },
   "outputs": [],
   "source": [
    "# YOUR CODE HERE\n",
    "raise NotImplementedError()"
   ]
  },
  {
   "cell_type": "markdown",
   "id": "2eb5eb8f",
   "metadata": {
    "deletable": false,
    "editable": false,
    "nbgrader": {
     "cell_type": "markdown",
     "checksum": "3c93f147474fed119778764d1bbdcd10",
     "grade": false,
     "grade_id": "problem7d",
     "locked": true,
     "schema_version": 3,
     "solution": false,
     "task": false
    }
   },
   "source": [
    "## Problem 7d (5 pts)\n",
    "\n",
    "- Calculate and print the ratio of positive over negative difference anomalies ($\\Delta T_{\\rm anomaly}$) for both Ocean and Land. \n",
    "\n",
    "> *Tip: use a combination of ```np.where``` and ```np.shape```*\n",
    "\n",
    "Call your results `land_ratio` and `ocean_ratio`, respectively.\n",
    "\n",
    "The answers should be $1.226$ above land (`land_ratio`) and $1.000$ above the Oceans (`ocean_ratio`). "
   ]
  },
  {
   "cell_type": "code",
   "execution_count": null,
   "id": "e5e53bf0",
   "metadata": {
    "deletable": false,
    "nbgrader": {
     "cell_type": "code",
     "checksum": "6be4676752285ed2b3ed65e492ba8752",
     "grade": false,
     "grade_id": "cell-6eabb1facf376176",
     "locked": false,
     "schema_version": 3,
     "solution": true,
     "task": false
    }
   },
   "outputs": [],
   "source": [
    "# YOUR CODE HERE\n",
    "raise NotImplementedError()"
   ]
  },
  {
   "cell_type": "code",
   "execution_count": null,
   "id": "da0b1c96",
   "metadata": {},
   "outputs": [],
   "source": [
    "assert abs(land_ratio - 1.226) < 1.0e-3 \n",
    "assert abs(ocean_ratio - 1.000) < 1.0e-3"
   ]
  },
  {
   "cell_type": "markdown",
   "id": "8b7d58cf",
   "metadata": {
    "deletable": false,
    "editable": false,
    "nbgrader": {
     "cell_type": "markdown",
     "checksum": "8b563d2a3fbebee45ecef80db280f607",
     "grade": false,
     "grade_id": "cell-5abff5d1c6f2e835",
     "locked": true,
     "schema_version": 3,
     "solution": false,
     "task": false
    }
   },
   "source": [
    "# Problem 8 (15 pts)\n",
    "\n",
    "You have seen how to make subplots using ```plt.subplots()```. Here you will make three subplot with function derivatives.\n",
    "\n",
    "- Create a numpy array with at least 100 equally spaced points from $[0,2\\pi]$\n",
    "- Create a function $f=2\\sin^2{x}-1$\n",
    "- Create a figure with 3 subplots above each-other, sharing the x-axis\n",
    "- Plot the function $f$ in the top panel\n",
    "- Plot the derivative (simplified here by taking $f'(x') = {{f_{i+1}-f_{i}}\\over{x_{i+1}-x_{i}}}$, where $x'$ is in the middle between $x_{i+1}$ and $x_i$) in the middle panel (you should write a function for the derivative). [Hint: use a function that takes as input arrays for $x$ and $f(x)$ and returns a new array for $x'=(x_{i+1}+x_{i})/2.$ **and** an array for $f'(x')$. These arrays will be one element shorter than the input array, since we cannot calculate the values for the last point of the input array]\n",
    "- Plot the 2nd derivative $f''$ in the bottom panel (you can use your own defined function twice in this case)."
   ]
  },
  {
   "cell_type": "code",
   "execution_count": null,
   "id": "da0779a9",
   "metadata": {
    "deletable": false,
    "nbgrader": {
     "cell_type": "code",
     "checksum": "eb3b49536ba51f8f01c1ead01ccadc03",
     "grade": false,
     "grade_id": "cell-903b33507d683e6c",
     "locked": false,
     "schema_version": 3,
     "solution": true,
     "task": false
    }
   },
   "outputs": [],
   "source": [
    "# YOUR CODE HERE\n",
    "raise NotImplementedError()"
   ]
  },
  {
   "cell_type": "code",
   "execution_count": null,
   "id": "1de97ab3",
   "metadata": {
    "deletable": false,
    "nbgrader": {
     "cell_type": "code",
     "checksum": "215e35e9cce573bb19262c369ae5c88f",
     "grade": false,
     "grade_id": "cell-82fc6ffbd3d50df0",
     "locked": false,
     "schema_version": 3,
     "solution": true,
     "task": false
    }
   },
   "outputs": [],
   "source": [
    "# YOUR CODE HERE\n",
    "raise NotImplementedError()"
   ]
  }
 ],
 "metadata": {
  "kernelspec": {
   "display_name": "Python 3 (ipykernel)",
   "language": "python",
   "name": "python3"
  },
  "language_info": {
   "codemirror_mode": {
    "name": "ipython",
    "version": 3
   },
   "file_extension": ".py",
   "mimetype": "text/x-python",
   "name": "python",
   "nbconvert_exporter": "python",
   "pygments_lexer": "ipython3",
   "version": "3.8.13"
  }
 },
 "nbformat": 4,
 "nbformat_minor": 5
}
